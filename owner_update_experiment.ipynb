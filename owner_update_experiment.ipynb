{
 "cells": [
  {
   "cell_type": "code",
   "execution_count": 9,
   "metadata": {},
   "outputs": [],
   "source": [
    "ENDPOINT_WHITELIST = \"https://collaborative-training-auth.huggingface.co\""
   ]
  },
  {
   "cell_type": "markdown",
   "metadata": {},
   "source": [
    "# Code stuff"
   ]
  },
  {
   "cell_type": "code",
   "execution_count": 10,
   "metadata": {},
   "outputs": [],
   "source": [
    "import pprint\n",
    "from getpass import getpass\n",
    "from typing import List, Optional\n",
    "\n",
    "import requests\n",
    "from huggingface_hub import HfApi\n",
    "from huggingface_hub.hf_api import HfApi, HfFolder\n",
    "from pydantic import BaseModel, IPvAnyAddress, validator\n",
    "from requests.exceptions import HTTPError"
   ]
  },
  {
   "cell_type": "code",
   "execution_count": 11,
   "metadata": {},
   "outputs": [],
   "source": [
    "class HFTokenManagemment:\n",
    "    def __init__(self):\n",
    "        self._api = HfApi()\n",
    "\n",
    "    def login(self):\n",
    "        username = input(\"Experiment owner HF username: \")\n",
    "        password = getpass()\n",
    "        try:\n",
    "            token = self._api.login(username, password)\n",
    "        except HTTPError as e:\n",
    "            # probably invalid credentials, display error message.\n",
    "            print(e)\n",
    "            print(e.response.text)\n",
    "            exit(1)\n",
    "        HfFolder.save_token(token)\n",
    "        print(\"Login successful\")\n",
    "        print(\"Your token:\", token, \"\\n\")\n",
    "        print(\"Your token has been saved to\", HfFolder.path_token)\n",
    "\n",
    "    def logout(self):\n",
    "        token = HfFolder.get_token()\n",
    "        if token is None:\n",
    "            print(\"Not logged in\")\n",
    "            exit()\n",
    "        HfFolder.delete_token()\n",
    "        self._api.logout(token)\n",
    "        print(\"Successfully logged out.\")"
   ]
  },
  {
   "cell_type": "code",
   "execution_count": 12,
   "metadata": {},
   "outputs": [],
   "source": [
    "# Define models to help request to API\n",
    "class UserCreate(BaseModel):\n",
    "    \"\"\"\n",
    "    username are required for registering a new user\n",
    "    \"\"\"\n",
    "\n",
    "    username: str\n",
    "\n",
    "\n",
    "class ExperimentFullUpdate(BaseModel):\n",
    "    name: Optional[str]\n",
    "    coordinator_ip: Optional[str]\n",
    "    coordinator_port: Optional[int]\n",
    "    added_collaborators: Optional[List[UserCreate]]\n",
    "    removed_collaborators: Optional[List[UserCreate]]\n",
    "\n",
    "    @validator(\"coordinator_port\")\n",
    "    def validate_port(cls, port):\n",
    "        if port is None:\n",
    "            return port\n",
    "\n",
    "        if int(port) > 2 ** 16:\n",
    "            raise ValueError(\"port overflow\")\n",
    "        return port"
   ]
  },
  {
   "cell_type": "code",
   "execution_count": 29,
   "metadata": {},
   "outputs": [],
   "source": [
    "def update_coordinator_endpoint(\n",
    "    id_experiment: int, coordinator_ip: str, coordinator_port: int\n",
    "):\n",
    "    experiment_full_update = ExperimentFullUpdate(\n",
    "        coordinator_ip=coordinator_ip, coordinator_port=coordinator_port\n",
    "    )\n",
    "\n",
    "    path = f\"{ENDPOINT_WHITELIST}/api/experiments/{id_experiment}/\"\n",
    "\n",
    "    headers = {\"Authorization\": f\"Bearer {HfFolder.get_token()}\"}\n",
    "    r = requests.put(\n",
    "        path,\n",
    "        headers=headers,\n",
    "        json={\n",
    "            \"experiment_full_update\": experiment_full_update.dict(exclude_unset=True)\n",
    "        },\n",
    "    )\n",
    "    r.raise_for_status()\n",
    "    return r.json()\n",
    "\n",
    "\n",
    "def add_collaborators(id_experiment: int, collaborators_username_list: List[str]):\n",
    "    new_collaborators_list = [\n",
    "        UserCreate(username=username) for username in collaborators_username_list\n",
    "    ]\n",
    "    experiment_full_update = ExperimentFullUpdate(\n",
    "        added_collaborators=new_collaborators_list\n",
    "    )\n",
    "\n",
    "    path = f\"{ENDPOINT_WHITELIST}/api/experiments/{id_experiment}/\"\n",
    "\n",
    "    headers = {\"Authorization\": f\"Bearer {HfFolder.get_token()}\"}\n",
    "    r = requests.put(\n",
    "        path,\n",
    "        headers=headers,\n",
    "        json={\n",
    "            \"experiment_full_update\": experiment_full_update.dict(exclude_unset=True)\n",
    "        },\n",
    "    )\n",
    "    r.raise_for_status()\n",
    "    return r.json()\n",
    "\n",
    "\n",
    "def remove_collaborators(id_experiment: int, collaborators_username_list: List[str]):\n",
    "    removed_collaborators_list = [\n",
    "        UserCreate(username=username) for username in collaborators_username_list\n",
    "    ]\n",
    "    experiment_full_update = ExperimentFullUpdate(\n",
    "        removed_collaborators=removed_collaborators_list\n",
    "    )\n",
    "\n",
    "    path = f\"{ENDPOINT_WHITELIST}/api/experiments/{id_experiment}/\"\n",
    "\n",
    "    headers = {\"Authorization\": f\"Bearer {HfFolder.get_token()}\"}\n",
    "    r = requests.put(\n",
    "        path,\n",
    "        headers=headers,\n",
    "        json={\n",
    "            \"experiment_full_update\": experiment_full_update.dict(exclude_unset=True)\n",
    "        },\n",
    "    )\n",
    "    r.raise_for_status()\n",
    "    return r.json()"
   ]
  },
  {
   "cell_type": "markdown",
   "metadata": {},
   "source": [
    "# Login to HF account"
   ]
  },
  {
   "cell_type": "code",
   "execution_count": null,
   "metadata": {
    "scrolled": false
   },
   "outputs": [],
   "source": [
    "# As a HF user, you ask a HF token session\n",
    "token_management = HFTokenManagemment()\n",
    "token_management.login()"
   ]
  },
  {
   "cell_type": "code",
   "execution_count": 32,
   "metadata": {},
   "outputs": [],
   "source": [
    "id_experiment = 15  # Change ME"
   ]
  },
  {
   "cell_type": "markdown",
   "metadata": {},
   "source": [
    "# Add new collaborators to the whitelist"
   ]
  },
  {
   "cell_type": "code",
   "execution_count": 34,
   "metadata": {},
   "outputs": [
    {
     "data": {
      "text/plain": [
       "{'name': 'string',\n",
       " 'coordinator_ip': '1.1.1.1',\n",
       " 'coordinator_port': 50,\n",
       " 'created_at': '2021-05-11T17:27:41.768783+00:00',\n",
       " 'updated_at': '2021-05-11T19:35:31.368787+00:00',\n",
       " 'id': 5,\n",
       " 'owner': 'Aline',\n",
       " 'collaborators': [{'username': 'string',\n",
       "   'peer_public_key': None,\n",
       "   'user_created_at': '2021-05-11T17:24:49.662327+00:00',\n",
       "   'user_updated_at': '2021-05-11T17:24:49.662327+00:00',\n",
       "   'public_key_created_at': None,\n",
       "   'public_key_updated_at': None},\n",
       "  {'username': 'Claire',\n",
       "   'peer_public_key': None,\n",
       "   'user_created_at': '2021-05-11T19:35:31.333686+00:00',\n",
       "   'user_updated_at': '2021-05-11T19:35:31.333686+00:00',\n",
       "   'public_key_created_at': None,\n",
       "   'public_key_updated_at': None},\n",
       "  {'username': 'Jean',\n",
       "   'peer_public_key': None,\n",
       "   'user_created_at': '2021-05-11T19:35:31.353844+00:00',\n",
       "   'user_updated_at': '2021-05-11T19:35:31.353844+00:00',\n",
       "   'public_key_created_at': None,\n",
       "   'public_key_updated_at': None}]}"
      ]
     },
     "execution_count": 34,
     "metadata": {},
     "output_type": "execute_result"
    }
   ],
   "source": [
    "collaborators_username_list = [\n",
    "    \"Claire\",  # Change Me\n",
    "    \"Jean\",  # Change Me\n",
    "]\n",
    "add_collaborators(\n",
    "    id_experiment=id_experiment, collaborators_username_list=collaborators_username_list\n",
    ")"
   ]
  },
  {
   "cell_type": "markdown",
   "metadata": {},
   "source": [
    "# Remove collaborators from the whitelist"
   ]
  },
  {
   "cell_type": "code",
   "execution_count": 36,
   "metadata": {},
   "outputs": [
    {
     "data": {
      "text/plain": [
       "{'name': 'string',\n",
       " 'coordinator_ip': '1.1.1.1',\n",
       " 'coordinator_port': 50,\n",
       " 'created_at': '2021-05-11T17:27:41.768783+00:00',\n",
       " 'updated_at': '2021-05-11T19:35:43.692600+00:00',\n",
       " 'id': 5,\n",
       " 'owner': 'Aline',\n",
       " 'collaborators': [{'username': 'string',\n",
       "   'peer_public_key': None,\n",
       "   'user_created_at': '2021-05-11T17:24:49.662327+00:00',\n",
       "   'user_updated_at': '2021-05-11T17:24:49.662327+00:00',\n",
       "   'public_key_created_at': None,\n",
       "   'public_key_updated_at': None},\n",
       "  {'username': 'Jean',\n",
       "   'peer_public_key': None,\n",
       "   'user_created_at': '2021-05-11T19:35:31.353844+00:00',\n",
       "   'user_updated_at': '2021-05-11T19:35:31.353844+00:00',\n",
       "   'public_key_created_at': None,\n",
       "   'public_key_updated_at': None}]}"
      ]
     },
     "execution_count": 36,
     "metadata": {},
     "output_type": "execute_result"
    }
   ],
   "source": [
    "collaborators_username_list = [\n",
    "    \"Claire\",  # Change Me\n",
    "]\n",
    "remove_collaborators(\n",
    "    id_experiment=id_experiment, collaborators_username_list=collaborators_username_list\n",
    ")"
   ]
  },
  {
   "cell_type": "markdown",
   "metadata": {},
   "source": [
    "# Update coordinator endpoint values"
   ]
  },
  {
   "cell_type": "code",
   "execution_count": 33,
   "metadata": {},
   "outputs": [
    {
     "data": {
      "text/plain": [
       "{'name': 'string',\n",
       " 'coordinator_ip': '1.1.1.1',\n",
       " 'coordinator_port': 50,\n",
       " 'created_at': '2021-05-11T17:27:41.768783+00:00',\n",
       " 'updated_at': '2021-05-11T19:35:29.990570+00:00',\n",
       " 'id': 5,\n",
       " 'owner': 'Aline',\n",
       " 'collaborators': [{'username': 'string',\n",
       "   'peer_public_key': None,\n",
       "   'user_created_at': '2021-05-11T17:24:49.662327+00:00',\n",
       "   'user_updated_at': '2021-05-11T17:24:49.662327+00:00',\n",
       "   'public_key_created_at': None,\n",
       "   'public_key_updated_at': None}]}"
      ]
     },
     "execution_count": 33,
     "metadata": {},
     "output_type": "execute_result"
    }
   ],
   "source": [
    "update_coordinator_endpoint(\n",
    "    id_experiment=id_experiment,\n",
    "    coordinator_ip=str,  # Change ME, ex: \"1.1.1.1\"\n",
    "    coordinator_port=int,  # Change ME, ex: 50\n",
    ")"
   ]
  },
  {
   "cell_type": "markdown",
   "metadata": {},
   "source": [
    "# Logout \n",
    "Really import to run this last cell for security reasons"
   ]
  },
  {
   "cell_type": "code",
   "execution_count": null,
   "metadata": {},
   "outputs": [],
   "source": [
    "# As a HF user, you terminate your session (your token is not longer valid)\n",
    "token_management.logout()"
   ]
  }
 ],
 "metadata": {
  "kernelspec": {
   "display_name": "auth",
   "language": "python",
   "name": "auth"
  },
  "language_info": {
   "codemirror_mode": {
    "name": "ipython",
    "version": 3
   },
   "file_extension": ".py",
   "mimetype": "text/x-python",
   "name": "python",
   "nbconvert_exporter": "python",
   "pygments_lexer": "ipython3",
   "version": "3.8.8"
  }
 },
 "nbformat": 4,
 "nbformat_minor": 4
}
