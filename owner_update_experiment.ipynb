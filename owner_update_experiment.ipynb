{
 "cells": [
  {
   "cell_type": "code",
   "execution_count": null,
   "metadata": {},
   "outputs": [],
   "source": [
    "ENDPOINT_WHITELIST = \"https://collaborative-training-auth.huggingface.co\""
   ]
  },
  {
   "cell_type": "markdown",
   "metadata": {},
   "source": [
    "# Packages import"
   ]
  },
  {
   "cell_type": "code",
   "execution_count": null,
   "metadata": {},
   "outputs": [],
   "source": [
    "!pip install requests==2.24.0 cryptography==3.1.1 huggingface_hub==0.0.2 pydantic==1.8.1"
   ]
  },
  {
   "cell_type": "markdown",
   "metadata": {},
   "source": [
    "# Code stuff"
   ]
  },
  {
   "cell_type": "code",
   "execution_count": null,
   "metadata": {},
   "outputs": [],
   "source": [
    "import pprint\n",
    "from getpass import getpass\n",
    "from typing import List, Optional\n",
    "\n",
    "import requests\n",
    "from huggingface_hub import HfApi\n",
    "from huggingface_hub.hf_api import HfApi, HfFolder\n",
    "from pydantic import BaseModel, IPvAnyAddress, validator\n",
    "from requests.exceptions import HTTPError"
   ]
  },
  {
   "cell_type": "code",
   "execution_count": null,
   "metadata": {},
   "outputs": [],
   "source": [
    "class HFTokenManagemment:\n",
    "    def __init__(self):\n",
    "        self._api = HfApi()\n",
    "\n",
    "    def login(self):\n",
    "        username = input(\"Experiment owner HF username: \")\n",
    "        password = getpass()\n",
    "        try:\n",
    "            token = self._api.login(username, password)\n",
    "        except HTTPError as e:\n",
    "            # probably invalid credentials, display error message.\n",
    "            print(e)\n",
    "            print(e.response.text)\n",
    "            exit(1)\n",
    "        HfFolder.save_token(token)\n",
    "        print(\"Login successful\")\n",
    "        print(\"Your token:\", token, \"\\n\")\n",
    "        print(\"Your token has been saved to\", HfFolder.path_token)\n",
    "\n",
    "    def logout(self):\n",
    "        token = HfFolder.get_token()\n",
    "        if token is None:\n",
    "            print(\"Not logged in\")\n",
    "            exit()\n",
    "        HfFolder.delete_token()\n",
    "        self._api.logout(token)\n",
    "        print(\"Successfully logged out.\")"
   ]
  },
  {
   "cell_type": "code",
   "execution_count": null,
   "metadata": {},
   "outputs": [],
   "source": [
    "# Define models to help request to API\n",
    "class UserCreate(BaseModel):\n",
    "    \"\"\"\n",
    "    username are required for registering a new user\n",
    "    \"\"\"\n",
    "\n",
    "    username: str\n",
    "\n",
    "\n",
    "class ExperimentFullUpdate(BaseModel):\n",
    "    name: Optional[str]\n",
    "    coordinator_ip: Optional[str]\n",
    "    coordinator_port: Optional[int]\n",
    "    added_collaborators: Optional[List[UserCreate]]\n",
    "    removed_collaborators: Optional[List[UserCreate]]\n",
    "\n",
    "    @validator(\"coordinator_port\")\n",
    "    def validate_port(cls, port):\n",
    "        if port is None:\n",
    "            return port\n",
    "\n",
    "        if int(port) > 2 ** 16:\n",
    "            raise ValueError(\"port overflow\")\n",
    "        return port"
   ]
  },
  {
   "cell_type": "code",
   "execution_count": null,
   "metadata": {},
   "outputs": [],
   "source": [
    "def update_coordinator_endpoint(\n",
    "    id_experiment: int, coordinator_ip: str, coordinator_port: int\n",
    "):\n",
    "    experiment_full_update = ExperimentFullUpdate(\n",
    "        coordinator_ip=coordinator_ip, coordinator_port=coordinator_port\n",
    "    )\n",
    "\n",
    "    path = f\"{ENDPOINT_WHITELIST}/api/experiments/{id_experiment}/\"\n",
    "\n",
    "    headers = {\"Authorization\": f\"Bearer {HfFolder.get_token()}\"}\n",
    "    r = requests.put(\n",
    "        path,\n",
    "        headers=headers,\n",
    "        json={\n",
    "            \"experiment_full_update\": experiment_full_update.dict(exclude_unset=True)\n",
    "        },\n",
    "    )\n",
    "    r.raise_for_status()\n",
    "    return r.json()\n",
    "\n",
    "\n",
    "def add_collaborators(id_experiment: int, collaborators_username_list: List[str]):\n",
    "    new_collaborators_list = [\n",
    "        UserCreate(username=username) for username in collaborators_username_list\n",
    "    ]\n",
    "    experiment_full_update = ExperimentFullUpdate(\n",
    "        added_collaborators=new_collaborators_list\n",
    "    )\n",
    "\n",
    "    path = f\"{ENDPOINT_WHITELIST}/api/experiments/{id_experiment}/\"\n",
    "\n",
    "    headers = {\"Authorization\": f\"Bearer {HfFolder.get_token()}\"}\n",
    "    r = requests.put(\n",
    "        path,\n",
    "        headers=headers,\n",
    "        json={\n",
    "            \"experiment_full_update\": experiment_full_update.dict(exclude_unset=True)\n",
    "        },\n",
    "    )\n",
    "    r.raise_for_status()\n",
    "    return r.json()\n",
    "\n",
    "\n",
    "def remove_collaborators(id_experiment: int, collaborators_username_list: List[str]):\n",
    "    removed_collaborators_list = [\n",
    "        UserCreate(username=username) for username in collaborators_username_list\n",
    "    ]\n",
    "    experiment_full_update = ExperimentFullUpdate(\n",
    "        removed_collaborators=removed_collaborators_list\n",
    "    )\n",
    "\n",
    "    path = f\"{ENDPOINT_WHITELIST}/api/experiments/{id_experiment}/\"\n",
    "\n",
    "    headers = {\"Authorization\": f\"Bearer {HfFolder.get_token()}\"}\n",
    "    r = requests.put(\n",
    "        path,\n",
    "        headers=headers,\n",
    "        json={\n",
    "            \"experiment_full_update\": experiment_full_update.dict(exclude_unset=True)\n",
    "        },\n",
    "    )\n",
    "    r.raise_for_status()\n",
    "    return r.json()\n",
    "\n",
    "def get_experiment(id_experiment: int):\n",
    "    path = f\"{ENDPOINT_WHITELIST}/api/experiments/{id_experiment}/\"\n",
    "\n",
    "    headers = {\"Authorization\": f\"Bearer {HfFolder.get_token()}\"}\n",
    "    r = requests.get(\n",
    "        path,\n",
    "        headers=headers\n",
    "    )\n",
    "    r.raise_for_status()\n",
    "    return r.json()"
   ]
  },
  {
   "cell_type": "markdown",
   "metadata": {},
   "source": [
    "# Login to HF account"
   ]
  },
  {
   "cell_type": "code",
   "execution_count": null,
   "metadata": {
    "scrolled": false
   },
   "outputs": [],
   "source": [
    "# As a HF user, you ask a HF token session\n",
    "token_management = HFTokenManagemment()\n",
    "token_management.login()"
   ]
  },
  {
   "cell_type": "code",
   "execution_count": null,
   "metadata": {},
   "outputs": [],
   "source": [
    "id_experiment = 15  # Change ME"
   ]
  },
  {
   "cell_type": "markdown",
   "metadata": {},
   "source": [
    "# Get the content of the experiment\n",
    "To see the collaborators already whitelisted"
   ]
  },
  {
   "cell_type": "code",
   "execution_count": null,
   "metadata": {},
   "outputs": [],
   "source": [
    "response = get_experiment(\n",
    "    id_experiment=id_experiment,\n",
    ")\n",
    "response"
   ]
  },
  {
   "cell_type": "code",
   "execution_count": null,
   "metadata": {},
   "outputs": [],
   "source": [
    "print(\"List of collaborators in allowlist who already ask to join the collaborative training:\")\n",
    "for collaborator in response['collaborators']:\n",
    "    if collaborator[\"peer_public_key\"] is not None:\n",
    "        print(f\"  {collaborator['username']}\")\n",
    "              \n",
    "print(\"\\nList of collaborators in allowlist who didn't ask to join the collaborative training yet:\")\n",
    "for collaborator in response['collaborators']:\n",
    "    if collaborator[\"peer_public_key\"] is None:\n",
    "        print(f\"  {collaborator['username']}\")"
   ]
  },
  {
   "cell_type": "markdown",
   "metadata": {},
   "source": [
    "# Add new collaborators to the whitelist"
   ]
  },
  {
   "cell_type": "code",
   "execution_count": null,
   "metadata": {},
   "outputs": [],
   "source": [
    "collaborators_username_list = [\n",
    "    \"Claire\",  # Change Me\n",
    "    \"Jean\",  # Change Me\n",
    "]\n",
    "add_collaborators(\n",
    "    id_experiment=id_experiment, collaborators_username_list=collaborators_username_list\n",
    ")"
   ]
  },
  {
   "cell_type": "markdown",
   "metadata": {},
   "source": [
    "# Remove collaborators from the whitelist"
   ]
  },
  {
   "cell_type": "code",
   "execution_count": null,
   "metadata": {},
   "outputs": [],
   "source": [
    "collaborators_username_list = [\n",
    "    \"Claire\",  # Change Me\n",
    "]\n",
    "remove_collaborators(\n",
    "    id_experiment=id_experiment, collaborators_username_list=collaborators_username_list\n",
    ")"
   ]
  },
  {
   "cell_type": "markdown",
   "metadata": {},
   "source": [
    "# Update coordinator endpoint values"
   ]
  },
  {
   "cell_type": "code",
   "execution_count": null,
   "metadata": {},
   "outputs": [],
   "source": [
    "update_coordinator_endpoint(\n",
    "    id_experiment=id_experiment,\n",
    "    coordinator_ip=str,  # Change ME, ex: \"1.1.1.1\"\n",
    "    coordinator_port=int,  # Change ME, ex: 50\n",
    ")"
   ]
  },
  {
   "cell_type": "markdown",
   "metadata": {},
   "source": [
    "# Logout \n",
    "Really import to run this last cell for security reasons"
   ]
  },
  {
   "cell_type": "code",
   "execution_count": null,
   "metadata": {},
   "outputs": [],
   "source": [
    "# As a HF user, you terminate your session (your token is not longer valid)\n",
    "token_management.logout()"
   ]
  }
 ],
 "metadata": {
  "kernelspec": {
   "display_name": "auth",
   "language": "python",
   "name": "auth"
  },
  "language_info": {
   "codemirror_mode": {
    "name": "ipython",
    "version": 3
   },
   "file_extension": ".py",
   "mimetype": "text/x-python",
   "name": "python",
   "nbconvert_exporter": "python",
   "pygments_lexer": "ipython3",
   "version": "3.8.8"
  }
 },
 "nbformat": 4,
 "nbformat_minor": 4
}
