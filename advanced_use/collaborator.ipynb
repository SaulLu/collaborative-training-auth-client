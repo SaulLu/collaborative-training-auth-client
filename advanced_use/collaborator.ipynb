{
 "cells": [
  {
   "cell_type": "code",
   "execution_count": null,
   "metadata": {},
   "outputs": [],
   "source": [
    "import datetime\n",
    "from getpass import getpass\n",
    "from typing import List, Optional\n",
    "\n",
    "import requests\n",
    "from cryptography.hazmat.primitives import serialization\n",
    "from cryptography.hazmat.primitives.asymmetric import rsa\n",
    "from huggingface_hub import HfApi\n",
    "from huggingface_hub.hf_api import HfApi, HfFolder\n",
    "from pydantic import BaseModel, IPvAnyAddress, validator\n",
    "from requests.exceptions import HTTPError"
   ]
  },
  {
   "cell_type": "code",
   "execution_count": null,
   "metadata": {},
   "outputs": [],
   "source": [
    "ENDPOINT_WHITELIST = \"https://collaborative-training-auth.huggingface.co\"\n",
    "\n",
    "\n",
    "class ANSI:\n",
    "    \"\"\"\n",
    "    Helper for en.wikipedia.org/wiki/ANSI_escape_code\n",
    "    \"\"\"\n",
    "\n",
    "    _bold = \"\\u001b[1m\"\n",
    "    _red = \"\\u001b[31m\"\n",
    "    _gray = \"\\u001b[90m\"\n",
    "    _reset = \"\\u001b[0m\"\n",
    "\n",
    "    @classmethod\n",
    "    def bold(cls, s):\n",
    "        return \"{}{}{}\".format(cls._bold, s, cls._reset)\n",
    "\n",
    "    @classmethod\n",
    "    def red(cls, s):\n",
    "        return \"{}{}{}\".format(cls._bold + cls._red, s, cls._reset)\n",
    "\n",
    "    @classmethod\n",
    "    def gray(cls, s):\n",
    "        return \"{}{}{}\".format(cls._gray, s, cls._reset)\n",
    "\n",
    "\n",
    "class HFTokenManagemment:\n",
    "    def __init__(self):\n",
    "        self._api = HfApi()\n",
    "\n",
    "    def login(self):\n",
    "        print(  # docstyle-ignore\n",
    "            \"\"\"\n",
    "        _|    _|  _|    _|    _|_|_|    _|_|_|  _|_|_|  _|      _|    _|_|_|      _|_|_|_|    _|_|      _|_|_|  _|_|_|_|\n",
    "        _|    _|  _|    _|  _|        _|          _|    _|_|    _|  _|            _|        _|    _|  _|        _|\n",
    "        _|_|_|_|  _|    _|  _|  _|_|  _|  _|_|    _|    _|  _|  _|  _|  _|_|      _|_|_|    _|_|_|_|  _|        _|_|_|\n",
    "        _|    _|  _|    _|  _|    _|  _|    _|    _|    _|    _|_|  _|    _|      _|        _|    _|  _|        _|\n",
    "        _|    _|    _|_|      _|_|_|    _|_|_|  _|_|_|  _|      _|    _|_|_|      _|        _|    _|    _|_|_|  _|_|_|_|\n",
    "        \"\"\"\n",
    "        )\n",
    "        username = input(\"Username: \")\n",
    "        password = getpass()\n",
    "        try:\n",
    "            token = self._api.login(username, password)\n",
    "        except HTTPError as e:\n",
    "            # probably invalid credentials, display error message.\n",
    "            print(e)\n",
    "            print(ANSI.red(e.response.text))\n",
    "            exit(1)\n",
    "        HfFolder.save_token(token)\n",
    "        print(\"Login successful\")\n",
    "        print(\"Your token:\", token, \"\\n\")\n",
    "        print(\"Your token has been saved to\", HfFolder.path_token)\n",
    "\n",
    "    def logout(self):\n",
    "        token = HfFolder.get_token()\n",
    "        if token is None:\n",
    "            print(\"Not logged in\")\n",
    "            exit()\n",
    "        HfFolder.delete_token()\n",
    "        self._api.logout(token)\n",
    "        print(\"Successfully logged out.\")"
   ]
  },
  {
   "cell_type": "code",
   "execution_count": null,
   "metadata": {},
   "outputs": [],
   "source": [
    "# Define models to help request to API\n",
    "class ExperimentJoinInput(BaseModel):\n",
    "    \"\"\"\n",
    "    All common characteristics of our Experiment resource\n",
    "    \"\"\"\n",
    "\n",
    "    peer_public_key: Optional[bytes]  # bytes\n",
    "\n",
    "\n",
    "class HivemindAccess(BaseModel):\n",
    "    username: str\n",
    "    peer_public_key: bytes\n",
    "    expiration_time: datetime.datetime\n",
    "    signature: bytes\n",
    "\n",
    "\n",
    "class ExperimentJoinOutput(BaseModel):\n",
    "    \"\"\"\n",
    "    All common characteristics of our Experiment resource\n",
    "    \"\"\"\n",
    "\n",
    "    coordinator_ip: Optional[IPvAnyAddress]\n",
    "    coordinator_port: Optional[int]\n",
    "    hivemind_access: HivemindAccess\n",
    "    auth_server_public_key: bytes\n",
    "\n",
    "    @validator(\"coordinator_port\")\n",
    "    def validate_port(cls, port):\n",
    "        if port is None:\n",
    "            return port\n",
    "\n",
    "        if int(port) > 2 ** 16:\n",
    "            raise ValueError(\"port overflow\")\n",
    "        return port"
   ]
  },
  {
   "cell_type": "code",
   "execution_count": null,
   "metadata": {
    "scrolled": true
   },
   "outputs": [],
   "source": [
    "# As a HF user, you ask a HF token session\n",
    "token_management = HFTokenManagemment()\n",
    "token_management.login()"
   ]
  },
  {
   "cell_type": "markdown",
   "metadata": {},
   "source": [
    "# Ask to join an experiment"
   ]
  },
  {
   "cell_type": "code",
   "execution_count": null,
   "metadata": {},
   "outputs": [],
   "source": [
    "# This is the content request for the new experiment to create\n",
    "\n",
    "private_key = rsa.generate_private_key(public_exponent=65537, key_size=2048)\n",
    "serialized_public_key = private_key.public_key().public_bytes(\n",
    "    encoding=serialization.Encoding.OpenSSH, format=serialization.PublicFormat.OpenSSH\n",
    ")\n",
    "experiment_join_input = ExperimentJoinInput(peer_public_key=serialized_public_key)\n",
    "\n",
    "values = experiment_join_input.dict()\n",
    "# Make the values JSON serializable\n",
    "values[\"peer_public_key\"] = values[\"peer_public_key\"].decode(\"utf-8\")\n",
    "\n",
    "id_experiment = 1  # Change me"
   ]
  },
  {
   "cell_type": "code",
   "execution_count": null,
   "metadata": {},
   "outputs": [],
   "source": [
    "# Send request to server\n",
    "path = f\"{ENDPOINT_WHITELIST}/api/experiments/join/{id_experiment}/\"\n",
    "\n",
    "headers = {\"Authorization\": f\"Bearer {HfFolder.get_token()}\"}\n",
    "r = requests.put(path, headers=headers, json={\"experiment_join_input\": values})\n",
    "r.raise_for_status()\n",
    "d = r.json()"
   ]
  },
  {
   "cell_type": "code",
   "execution_count": null,
   "metadata": {
    "scrolled": false
   },
   "outputs": [],
   "source": [
    "# Show server response\n",
    "d"
   ]
  },
  {
   "cell_type": "code",
   "execution_count": null,
   "metadata": {},
   "outputs": [],
   "source": [
    "ouput = ExperimentJoinOutput(**d)\n",
    "ouput"
   ]
  },
  {
   "cell_type": "code",
   "execution_count": null,
   "metadata": {},
   "outputs": [],
   "source": [
    "# As a HF user, you terminate your session (your token is not longer valid)\n",
    "token_management.logout()"
   ]
  },
  {
   "cell_type": "code",
   "execution_count": null,
   "metadata": {},
   "outputs": [],
   "source": []
  }
 ],
 "metadata": {
  "kernelspec": {
   "display_name": "auth",
   "language": "python",
   "name": "auth"
  },
  "language_info": {
   "codemirror_mode": {
    "name": "ipython",
    "version": 3
   },
   "file_extension": ".py",
   "mimetype": "text/x-python",
   "name": "python",
   "nbconvert_exporter": "python",
   "pygments_lexer": "ipython3",
   "version": "3.8.8"
  }
 },
 "nbformat": 4,
 "nbformat_minor": 4
}
