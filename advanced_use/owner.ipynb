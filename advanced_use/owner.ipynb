{
 "cells": [
  {
   "cell_type": "code",
   "execution_count": 1,
   "metadata": {},
   "outputs": [],
   "source": [
    "from getpass import getpass\n",
    "from typing import List, Optional\n",
    "\n",
    "import requests\n",
    "from huggingface_hub import HfApi\n",
    "from huggingface_hub.hf_api import HfApi, HfFolder\n",
    "from pydantic import BaseModel, IPvAnyAddress, validator\n",
    "from requests.exceptions import HTTPError"
   ]
  },
  {
   "cell_type": "code",
   "execution_count": 2,
   "metadata": {},
   "outputs": [],
   "source": [
    "ENDPOINT_WHITELIST = \"https://collaborative-training-auth.huggingface.co\"\n",
    "\n",
    "\n",
    "class HFTokenManagemment:\n",
    "    def __init__(self):\n",
    "        self._api = HfApi()\n",
    "\n",
    "    def login(self):\n",
    "        username = input(\"Experiment owner username: \")\n",
    "        password = getpass()\n",
    "        try:\n",
    "            token = self._api.login(username, password)\n",
    "        except HTTPError as e:\n",
    "            # probably invalid credentials, display error message.\n",
    "            print(e)\n",
    "            print(e.response.text)\n",
    "            exit(1)\n",
    "        HfFolder.save_token(token)\n",
    "        print(\"Login successful\")\n",
    "        print(\"Your token:\", token, \"\\n\")\n",
    "        print(\"Your token has been saved to\", HfFolder.path_token)\n",
    "\n",
    "    def logout(self):\n",
    "        token = HfFolder.get_token()\n",
    "        if token is None:\n",
    "            print(\"Not logged in\")\n",
    "            exit()\n",
    "        HfFolder.delete_token()\n",
    "        self._api.logout(token)\n",
    "        print(\"Successfully logged out.\")"
   ]
  },
  {
   "cell_type": "code",
   "execution_count": 3,
   "metadata": {},
   "outputs": [],
   "source": [
    "# Define models to help request to API\n",
    "class UserCreate(BaseModel):\n",
    "    \"\"\"\n",
    "    username are required for registering a new user\n",
    "    \"\"\"\n",
    "\n",
    "    username: str\n",
    "\n",
    "\n",
    "class ExperimentFullCreatePublic(BaseModel):\n",
    "    name: Optional[str]\n",
    "    coordinator_ip: Optional[IPvAnyAddress]\n",
    "    coordinator_port: Optional[int]\n",
    "    auth_server_public_key: Optional[bytes]\n",
    "    auth_server_private_key: Optional[bytes]\n",
    "    collaborators: Optional[List[UserCreate]]\n",
    "\n",
    "    @validator(\"coordinator_port\")\n",
    "    def validate_port(cls, port):\n",
    "        if port is None:\n",
    "            return port\n",
    "\n",
    "        if int(port) > 2 ** 16:\n",
    "            raise ValueError(\"port overflow\")\n",
    "        return port\n",
    "\n",
    "\n",
    "class ExperimentFullUpdate(BaseModel):\n",
    "    name: Optional[str]\n",
    "    coordinator_ip: Optional[IPvAnyAddress]\n",
    "    coordinator_port: Optional[int]\n",
    "    added_collaborators: Optional[List[UserCreate]]\n",
    "    removed_collaborators: Optional[List[UserCreate]]\n",
    "\n",
    "    @validator(\"coordinator_port\")\n",
    "    def validate_port(cls, port):\n",
    "        if port is None:\n",
    "            return port\n",
    "\n",
    "        if int(port) > 2 ** 16:\n",
    "            raise ValueError(\"port overflow\")\n",
    "        return port"
   ]
  },
  {
   "cell_type": "code",
   "execution_count": 4,
   "metadata": {
    "scrolled": true
   },
   "outputs": [
    {
     "name": "stdout",
     "output_type": "stream",
     "text": [
      "\n",
      "        _|    _|  _|    _|    _|_|_|    _|_|_|  _|_|_|  _|      _|    _|_|_|      _|_|_|_|    _|_|      _|_|_|  _|_|_|_|\n",
      "        _|    _|  _|    _|  _|        _|          _|    _|_|    _|  _|            _|        _|    _|  _|        _|\n",
      "        _|_|_|_|  _|    _|  _|  _|_|  _|  _|_|    _|    _|  _|  _|  _|  _|_|      _|_|_|    _|_|_|_|  _|        _|_|_|\n",
      "        _|    _|  _|    _|  _|    _|  _|    _|    _|    _|    _|_|  _|    _|      _|        _|    _|  _|        _|\n",
      "        _|    _|    _|_|      _|_|_|    _|_|_|  _|_|_|  _|      _|    _|_|_|      _|        _|    _|    _|_|_|  _|_|_|_|\n",
      "        \n",
      "Username: Aline\n",
      "········\n",
      "Login successful\n",
      "Your token: PfUCgGLjcJHktPfAJHLfabFhLwlWGLAfmZDquyGoPiqRfcSRstSQEwYbmIGiOpqThGrmAQNiyMbAEKcHgrLzkXcPqfQTdHAsVjNHvUmmzjSonmiHsRveVpGIsgBRHalT \n",
      "\n",
      "Your token has been saved to /home/lucile/.huggingface/token\n"
     ]
    }
   ],
   "source": [
    "# As a HF user, you ask a HF token session\n",
    "token_management = HFTokenManagemment()\n",
    "token_management.login()"
   ]
  },
  {
   "cell_type": "markdown",
   "metadata": {},
   "source": [
    "# Create a new experiment"
   ]
  },
  {
   "cell_type": "code",
   "execution_count": null,
   "metadata": {},
   "outputs": [],
   "source": [
    "# This is the content request for the new experiment to create\n",
    "new_experiment = ExperimentFullCreatePublic(\n",
    "    name=\"fake experiment 1\",\n",
    "    collaborators=[UserCreate(username=\"borzunov\")],\n",
    ")"
   ]
  },
  {
   "cell_type": "code",
   "execution_count": null,
   "metadata": {},
   "outputs": [],
   "source": [
    "# Send request to server\n",
    "path = \"{}/api/experiments/\".format(ENDPOINT_WHITELIST)\n",
    "\n",
    "headers = {\"Authorization\": f\"Bearer {HfFolder.get_token()}\"}\n",
    "r = requests.post(path, headers=headers, json={\"new_experiment\": new_experiment.dict()})\n",
    "r.raise_for_status()\n",
    "d = r.json()"
   ]
  },
  {
   "cell_type": "code",
   "execution_count": null,
   "metadata": {
    "scrolled": false
   },
   "outputs": [],
   "source": [
    "# Show server response\n",
    "d"
   ]
  },
  {
   "cell_type": "markdown",
   "metadata": {},
   "source": [
    "# Update the experiment just created"
   ]
  },
  {
   "cell_type": "code",
   "execution_count": null,
   "metadata": {},
   "outputs": [],
   "source": [
    "# This is the content request for the new experiment to create\n",
    "experiment_full_update = ExperimentFullUpdate(\n",
    "    name=\"fake experiment 1\",\n",
    "    added_collaborators=[UserCreate(username=\"Aline\")],\n",
    ")\n",
    "id_experiment = 1"
   ]
  },
  {
   "cell_type": "code",
   "execution_count": null,
   "metadata": {},
   "outputs": [],
   "source": [
    "# Send request to server\n",
    "path = f\"{ENDPOINT_WHITELIST}/api/experiments/{id_experiment}/\"\n",
    "\n",
    "headers = {\"Authorization\": f\"Bearer {HfFolder.get_token()}\"}\n",
    "r = requests.put(\n",
    "    path,\n",
    "    headers=headers,\n",
    "    json={\"experiment_full_update\": experiment_full_update.dict()},\n",
    ")\n",
    "r.raise_for_status()\n",
    "d = r.json()"
   ]
  },
  {
   "cell_type": "code",
   "execution_count": null,
   "metadata": {},
   "outputs": [],
   "source": [
    "# Show server response\n",
    "d"
   ]
  },
  {
   "cell_type": "code",
   "execution_count": null,
   "metadata": {},
   "outputs": [],
   "source": [
    "# As a HF user, you terminate your session (your token is not longer valid)\n",
    "token_management.logout()"
   ]
  },
  {
   "cell_type": "code",
   "execution_count": null,
   "metadata": {},
   "outputs": [],
   "source": []
  }
 ],
 "metadata": {
  "kernelspec": {
   "display_name": "auth",
   "language": "python",
   "name": "auth"
  },
  "language_info": {
   "codemirror_mode": {
    "name": "ipython",
    "version": 3
   },
   "file_extension": ".py",
   "mimetype": "text/x-python",
   "name": "python",
   "nbconvert_exporter": "python",
   "pygments_lexer": "ipython3",
   "version": "3.8.8"
  }
 },
 "nbformat": 4,
 "nbformat_minor": 4
}
