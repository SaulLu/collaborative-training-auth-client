{
 "cells": [
  {
   "cell_type": "code",
   "execution_count": 24,
   "metadata": {},
   "outputs": [],
   "source": [
    "ENDPOINT_WHITELIST = \"https://collaborative-training-auth.huggingface.co\""
   ]
  },
  {
   "cell_type": "markdown",
   "metadata": {},
   "source": [
    "# Code stuff"
   ]
  },
  {
   "cell_type": "code",
   "execution_count": 25,
   "metadata": {},
   "outputs": [],
   "source": [
    "import pprint\n",
    "from getpass import getpass\n",
    "from typing import List, Optional\n",
    "\n",
    "import requests\n",
    "from huggingface_hub import HfApi\n",
    "from huggingface_hub.hf_api import HfApi, HfFolder\n",
    "from pydantic import BaseModel, IPvAnyAddress, validator\n",
    "from requests.exceptions import HTTPError"
   ]
  },
  {
   "cell_type": "code",
   "execution_count": 26,
   "metadata": {},
   "outputs": [],
   "source": [
    "class HFTokenManagemment:\n",
    "    def __init__(self):\n",
    "        self._api = HfApi()\n",
    "\n",
    "    def login(self):\n",
    "        username = input(\"Experiment owner HF username: \")\n",
    "        password = getpass()\n",
    "        try:\n",
    "            token = self._api.login(username, password)\n",
    "        except HTTPError as e:\n",
    "            # probably invalid credentials, display error message.\n",
    "            print(e)\n",
    "            print(e.response.text)\n",
    "            exit(1)\n",
    "        HfFolder.save_token(token)\n",
    "        print(\"Login successful\")\n",
    "        print(\"Your token:\", token, \"\\n\")\n",
    "        print(\"Your token has been saved to\", HfFolder.path_token)\n",
    "\n",
    "    def logout(self):\n",
    "        token = HfFolder.get_token()\n",
    "        if token is None:\n",
    "            print(\"Not logged in\")\n",
    "            exit()\n",
    "        HfFolder.delete_token()\n",
    "        self._api.logout(token)\n",
    "        print(\"Successfully logged out.\")"
   ]
  },
  {
   "cell_type": "code",
   "execution_count": 27,
   "metadata": {},
   "outputs": [],
   "source": [
    "# Define models to help request to API\n",
    "class UserCreate(BaseModel):\n",
    "    \"\"\"\n",
    "    username are required for registering a new user\n",
    "    \"\"\"\n",
    "\n",
    "    username: str\n",
    "\n",
    "\n",
    "class ExperimentFullCreatePublic(BaseModel):\n",
    "    name: Optional[str]\n",
    "    coordinator_ip: Optional[str]\n",
    "    coordinator_port: Optional[int]\n",
    "    collaborators: Optional[List[UserCreate]]\n",
    "\n",
    "    @validator(\"coordinator_port\")\n",
    "    def validate_port(cls, port):\n",
    "        if port is None:\n",
    "            return port\n",
    "\n",
    "        if int(port) > 2 ** 16:\n",
    "            raise ValueError(\"port overflow\")\n",
    "        return port"
   ]
  },
  {
   "cell_type": "code",
   "execution_count": 28,
   "metadata": {},
   "outputs": [],
   "source": [
    "def create_experiment(new_experiment: ExperimentFullCreatePublic):\n",
    "    # Send request to server\n",
    "    path = \"{}/api/experiments/\".format(ENDPOINT_WHITELIST)\n",
    "\n",
    "    headers = {\"Authorization\": f\"Bearer {HfFolder.get_token()}\"}\n",
    "    r = requests.post(\n",
    "        path, headers=headers, json={\"new_experiment\": new_experiment.dict()}\n",
    "    )\n",
    "    r.raise_for_status()\n",
    "    return r.json()"
   ]
  },
  {
   "cell_type": "markdown",
   "metadata": {},
   "source": [
    "# Login to HF account"
   ]
  },
  {
   "cell_type": "code",
   "execution_count": null,
   "metadata": {
    "scrolled": true
   },
   "outputs": [],
   "source": [
    "# As a HF user, you ask a HF token session\n",
    "token_management = HFTokenManagemment()\n",
    "token_management.login()"
   ]
  },
  {
   "cell_type": "markdown",
   "metadata": {},
   "source": [
    "# Create a new experiment"
   ]
  },
  {
   "cell_type": "markdown",
   "metadata": {},
   "source": [
    "The next cell need to be updated with the values you want"
   ]
  },
  {
   "cell_type": "code",
   "execution_count": 29,
   "metadata": {},
   "outputs": [],
   "source": [
    "# This is the content request for the new experiment to create\n",
    "\n",
    "new_experiment = ExperimentFullCreatePublic(\n",
    "    name=\"<Add Experiment name HERE>\",  # Change ME\n",
    "    #     coordinator_ip= <Add IP HERE>, # Change ME, Optionnal, str type\n",
    "    #     coordinator_port= <Add Port HERE>, # Change ME, Optionnal, int type\n",
    ")"
   ]
  },
  {
   "cell_type": "code",
   "execution_count": 30,
   "metadata": {},
   "outputs": [
    {
     "name": "stdout",
     "output_type": "stream",
     "text": [
      "API response:\n",
      "{'collaborators': None,\n",
      " 'coordinator_ip': None,\n",
      " 'coordinator_port': None,\n",
      " 'created_at': '2021-05-11T19:21:11.373082+00:00',\n",
      " 'id': 6,\n",
      " 'name': '<Add Experiment name HERE>',\n",
      " 'owner': 'Aline',\n",
      " 'updated_at': '2021-05-11T19:21:11.373082+00:00'}\n",
      "\n",
      "Experiment id: 6\n"
     ]
    }
   ],
   "source": [
    "response = create_experiment(new_experiment)\n",
    "\n",
    "print(\"API response:\")\n",
    "pprint.pprint(response)\n",
    "print(f\"\\nExperiment id: {response['id']}\")"
   ]
  },
  {
   "cell_type": "markdown",
   "metadata": {},
   "source": [
    "# Logout \n",
    "Really import to run this last cell for security reasons"
   ]
  },
  {
   "cell_type": "code",
   "execution_count": null,
   "metadata": {},
   "outputs": [],
   "source": [
    "# As a HF user, you terminate your session (your token is not longer valid)\n",
    "token_management.logout()"
   ]
  }
 ],
 "metadata": {
  "kernelspec": {
   "display_name": "auth",
   "language": "python",
   "name": "auth"
  },
  "language_info": {
   "codemirror_mode": {
    "name": "ipython",
    "version": 3
   },
   "file_extension": ".py",
   "mimetype": "text/x-python",
   "name": "python",
   "nbconvert_exporter": "python",
   "pygments_lexer": "ipython3",
   "version": "3.8.8"
  }
 },
 "nbformat": 4,
 "nbformat_minor": 4
}
